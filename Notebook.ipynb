{
 "cells": [
  {
   "cell_type": "code",
   "execution_count": null,
   "metadata": {
    "collapsed": true
   },
   "outputs": [],
   "source": [
    "import os\n",
    "import pandas as pd\n",
    "from matplotlib import pyplot as plt\n",
    "import datetime\n",
    "\n",
    "url = \"https://ai-process-sandy.s3.eu-west-1.amazonaws.com/purge/deviation.json\"\n",
    "file_path = \"deviation.json\"\n",
    "now = datetime.datetime.now().strftime('%Y-%m-%d_%H-%M-%S')\n",
    "dataframe = pd.read_json(url)\n",
    "dataframe.to_json(file_path)\n",
    "\n",
    "\n",
    "class PlotDrawer:\n",
    "    def __init__(self):\n",
    "        self.plots_folder = \"plots\"\n",
    "        if not os.path.exists(self.plots_folder):\n",
    "            os.makedirs(self.plots_folder)\n",
    "\n",
    "    def read_json_file(self, json_file_path):\n",
    "        df = pd.read_json(json_file_path)\n",
    "        return df\n",
    "\n",
    "    def draw_plots(self, df):\n",
    "        plt.plot(df['rb_corners'], label='Model Predictions')\n",
    "        plt.plot(df['gt_corners'], label='Ground Truth')\n",
    "        plt.xlabel('Комната')\n",
    "        plt.ylabel('Количество углов')\n",
    "        plt.legend()\n",
    "        plt.savefig(f'{self.plots_folder}/corners_comparison - {now}.png')\n",
    "        plt.close()\n",
    "\n",
    "        plots_paths = [f'{self.plots_folder}/corners_comparison - {now}.png']\n",
    "        return plots_paths\n",
    "\n",
    "\n",
    "plot_drawer = PlotDrawer()\n",
    "df = plot_drawer.read_json_file(file_path)\n",
    "plots_paths = plot_drawer.draw_plots(df)\n",
    "print(plots_paths)"
   ]
  }
 ],
 "metadata": {
  "kernelspec": {
   "display_name": "Python 3",
   "language": "python",
   "name": "python3"
  },
  "language_info": {
   "codemirror_mode": {
    "name": "ipython",
    "version": 2
   },
   "file_extension": ".py",
   "mimetype": "text/x-python",
   "name": "python",
   "nbconvert_exporter": "python",
   "pygments_lexer": "ipython2",
   "version": "2.7.6"
  }
 },
 "nbformat": 4,
 "nbformat_minor": 0
}
